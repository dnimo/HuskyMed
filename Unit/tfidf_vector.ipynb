{
 "cells": [
  {
   "cell_type": "code",
   "execution_count": 1,
   "id": "073f38c8-0ced-4948-8116-543ec4c8275c",
   "metadata": {},
   "source": [
    "from sklearn.feature_extraction.text import TfidfVectorizer\n",
    "from sklearn.metrics.pairwise import cosine_similarity"
   ],
   "outputs": []
  },
  {
   "cell_type": "code",
   "execution_count": 14,
   "id": "fdee2958-3d7d-476b-bdaa-0f3ef7a77808",
   "metadata": {},
   "source": [
    "from datasets import load_dataset\n",
    "import pandas as pd\n",
    "import itertools\n",
    "import os\n",
    "from datetime import datetime\n",
    "\n",
    "\n",
    "data_path = '/home/jovyan/zhang/Husky/data/2022/sample/infotree_mrsmr_000_20240116_114018_149346.json'\n",
    "data = load_dataset('json', data_files=data_path)\n",
    "\n",
    "df = pd.DataFrame(data[\"train\"])"
   ],
   "outputs": []
  },
  {
   "cell_type": "code",
   "execution_count": 15,
   "id": "c5246eab-774f-4703-be97-736e2916e986",
   "metadata": {},
   "source": [
    "result = []\n",
    "for index, items in df.iterrows():\n",
    "    \n",
    "    for item in items['smrs']:\n",
    "        if item['smr'] != None:\n",
    "            item['INPUT_DATE'] = datetime.strptime(item['INPUT_DATE'], '%Y-%m-%d')\n",
    "    for item in items['records']:\n",
    "        item['ts'] = datetime.strptime(item['ts'][:8], '%Y%m%d')\n",
    "        \n",
    "    smrs = items['smrs']\n",
    "    records = items['records']\n",
    "    \n",
    "    for smrs_item in smrs:\n",
    "        # 找到第一个 records 元素的时间戳晚于当前 smrs 元素的时间戳的位置\n",
    "        insert_index = next((i for i, record_item in enumerate(records) if record_item['ts'] > smrs_item['INPUT_DATE']), len(smrs))\n",
    "    \n",
    "        # 将列表截断，并插入 smrs 元素\n",
    "        result.append({'pt_id': items['pt_id'], 'records': records[:insert_index], 'smrs':smrs_item})\n",
    "        records = records[insert_index:]          # 更新剩余的 records 元素列表\n",
    "        if len(records)==0:\n",
    "            break"
   ],
   "outputs": []
  },
  {
   "cell_type": "code",
   "execution_count": 16,
   "id": "b67b0db6-d0f9-4d07-a025-8cfb8138d226",
   "metadata": {},
   "source": [
    "df_result = pd.DataFrame(result)"
   ],
   "outputs": []
  },
  {
   "cell_type": "code",
   "execution_count": 19,
   "id": "5b2a3c66-3c8d-477f-9f68-880b1404e6f9",
   "metadata": {},
   "source": [
    "df_result = df_result[df_result['records'].apply(lambda x: len(x)>0)]"
   ],
   "outputs": []
  },
  {
   "cell_type": "code",
   "execution_count": 35,
   "id": "4addc475-dea7-4af2-b019-def0628107dc",
   "metadata": {},
   "source": [
    "df_result"
   ],
   "outputs": []
  },
  {
   "cell_type": "code",
   "execution_count": 60,
   "id": "70f04c58-fb13-4abf-909f-1db33dd058c7",
   "metadata": {},
   "source": [
    "records = []\n",
    "smrs = []\n",
    "for index, items in df_result.iterrows():\n",
    "    for record in items['records']:\n",
    "        for line in record['emr']:\n",
    "            line['pt_id'] = items['pt_id']\n",
    "            line['hcp_class'] = record['hcp_class']\n",
    "            line['section'] = record['section']\n",
    "            records.append(line)\n",
    "\n",
    "    for smr in items['smrs']['smr']:\n",
    "        smr['pt_id'] = items['pt_id']\n",
    "        smr['EMR_TYPE'] = items['smrs']['EMR_TYPE']\n",
    "        smr['SECTION'] = items['smrs']['SECTION']\n",
    "        smrs.append(smr)"
   ],
   "outputs": []
  },
  {
   "cell_type": "code",
   "execution_count": 61,
   "id": "338a4ca9-463a-4e73-9da0-9ce9a31fb84e",
   "metadata": {},
   "source": [
    "df_records = pd.DataFrame(records)\n",
    "df_smrs = pd.DataFrame(smrs)"
   ],
   "outputs": []
  },
  {
   "cell_type": "code",
   "execution_count": 76,
   "id": "5eff0385-3fd8-4e7f-bd50-1aabcfaafcec",
   "metadata": {},
   "source": [
    "grouped_df_records = df_records.groupby('pt_id')\n",
    "grouped_df_smrs = df_smrs.groupby('pt_id')"
   ],
   "outputs": []
  },
  {
   "cell_type": "code",
   "execution_count": 66,
   "id": "11a467a0-11d2-4606-ba7a-447e4c57f8dd",
   "metadata": {},
   "source": [
    "vectorizer = TfidfVectorizer()\n",
    "tfidf_matrix_records = vectorizer.fit_transform(df_records['text'].tolist())\n",
    "tfidf_matrix_smrs = vectorizer.transform(df_smrs['EMR_TEXT'].tolist())"
   ],
   "outputs": []
  },
  {
   "cell_type": "code",
   "execution_count": 67,
   "id": "7b640627-cb8f-4761-a062-d02c302b28a4",
   "metadata": {},
   "source": [
    "similarity_matrix = cosine_similarity(tfidf_matrix_records, tfidf_matrix_smrs)"
   ],
   "outputs": []
  },
  {
   "cell_type": "code",
   "execution_count": 74,
   "id": "8634c57d-4f31-4f3c-9d6d-a4c13faea7f4",
   "metadata": {},
   "source": [
    "df_records"
   ],
   "outputs": []
  },
  {
   "cell_type": "code",
   "execution_count": 75,
   "id": "c710f278-fe70-49ab-8457-e8c157e541c5",
   "metadata": {},
   "source": [
    "df_smrs"
   ],
   "outputs": []
  },
  {
   "cell_type": "code",
   "execution_count": 69,
   "id": "fffceb60-4621-4d3a-9d8d-8c7f07b099be",
   "metadata": {},
   "source": [
    "import numpy as np\n",
    "closest_sentences = []\n",
    "for i in range(similarity_matrix.shape[0]):\n",
    "    closest_index = np.argmax(similarity_matrix[i])  # 获取集合B中最相似句子的索引\n",
    "    closest_sentences.append((df_records['text'][i], df_smrs['EMR_TEXT'][closest_index]))"
   ],
   "outputs": []
  },
  {
   "cell_type": "code",
   "execution_count": 73,
   "id": "36be3451-4716-4b3a-a969-d1e5feb999ee",
   "metadata": {},
   "source": [
    "closest_sentences[10]"
   ],
   "outputs": []
  },
  {
   "cell_type": "code",
   "execution_count": null,
   "id": "63a54c1e-e79a-4693-b2b5-eab52eeb61af",
   "metadata": {},
   "source": [],
   "outputs": []
  }
 ],
 "metadata": {
  "kernelspec": {
   "display_name": "Python 3 (ipykernel)",
   "language": "python",
   "name": "python3"
  },
  "language_info": {
   "codemirror_mode": {
    "name": "ipython",
    "version": 3
   },
   "file_extension": ".py",
   "mimetype": "text/x-python",
   "name": "python",
   "nbconvert_exporter": "python",
   "pygments_lexer": "ipython3",
   "version": "3.11.6"
  }
 },
 "nbformat": 4,
 "nbformat_minor": 5
}
